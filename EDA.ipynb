{
 "cells": [
  {
   "cell_type": "markdown",
   "metadata": {},
   "source": [
    "# Análise Inicial dos Dados \n",
    "---\n",
    "Uber Testing Price"
   ]
  },
  {
   "cell_type": "code",
   "execution_count": 7,
   "metadata": {},
   "outputs": [],
   "source": [
    "import pandas as pd\n",
    "import matplotlib.pyplot as plt\n",
    "import os\n"
   ]
  },
  {
   "cell_type": "code",
   "execution_count": 10,
   "metadata": {},
   "outputs": [
    {
     "data": {
      "text/html": [
       "<div>\n",
       "<style scoped>\n",
       "    .dataframe tbody tr th:only-of-type {\n",
       "        vertical-align: middle;\n",
       "    }\n",
       "\n",
       "    .dataframe tbody tr th {\n",
       "        vertical-align: top;\n",
       "    }\n",
       "\n",
       "    .dataframe thead th {\n",
       "        text-align: right;\n",
       "    }\n",
       "</style>\n",
       "<table border=\"1\" class=\"dataframe\">\n",
       "  <thead>\n",
       "    <tr style=\"text-align: right;\">\n",
       "      <th></th>\n",
       "      <th>Unnamed: 0</th>\n",
       "      <th>Origem</th>\n",
       "      <th>Destino</th>\n",
       "      <th>Dia</th>\n",
       "      <th>Hora</th>\n",
       "      <th>Preço</th>\n",
       "    </tr>\n",
       "  </thead>\n",
       "  <tbody>\n",
       "    <tr>\n",
       "      <th>0</th>\n",
       "      <td>0</td>\n",
       "      <td>Dionísio Torres</td>\n",
       "      <td>Aldeota</td>\n",
       "      <td>Quinta-Feira</td>\n",
       "      <td>13.0</td>\n",
       "      <td>11.18</td>\n",
       "    </tr>\n",
       "    <tr>\n",
       "      <th>1</th>\n",
       "      <td>1</td>\n",
       "      <td>Meireles</td>\n",
       "      <td>Guararapes</td>\n",
       "      <td>Quarta-Feira</td>\n",
       "      <td>12.0</td>\n",
       "      <td>13.90</td>\n",
       "    </tr>\n",
       "    <tr>\n",
       "      <th>2</th>\n",
       "      <td>2</td>\n",
       "      <td>Cajazeiras</td>\n",
       "      <td>Messejana</td>\n",
       "      <td>Domingo</td>\n",
       "      <td>5.0</td>\n",
       "      <td>13.78</td>\n",
       "    </tr>\n",
       "    <tr>\n",
       "      <th>3</th>\n",
       "      <td>3</td>\n",
       "      <td>Parque Presidente Vargas</td>\n",
       "      <td>Conjunto Palmeiras</td>\n",
       "      <td>Sexta-Feira</td>\n",
       "      <td>16.0</td>\n",
       "      <td>19.27</td>\n",
       "    </tr>\n",
       "    <tr>\n",
       "      <th>4</th>\n",
       "      <td>4</td>\n",
       "      <td>Cajazeiras</td>\n",
       "      <td>Guararapes</td>\n",
       "      <td>Sábado</td>\n",
       "      <td>20.0</td>\n",
       "      <td>14.08</td>\n",
       "    </tr>\n",
       "  </tbody>\n",
       "</table>\n",
       "</div>"
      ],
      "text/plain": [
       "   Unnamed: 0                    Origem             Destino           Dia  \\\n",
       "0           0           Dionísio Torres             Aldeota  Quinta-Feira   \n",
       "1           1                  Meireles          Guararapes  Quarta-Feira   \n",
       "2           2                Cajazeiras           Messejana       Domingo   \n",
       "3           3  Parque Presidente Vargas  Conjunto Palmeiras   Sexta-Feira   \n",
       "4           4                Cajazeiras          Guararapes        Sábado   \n",
       "\n",
       "   Hora  Preço  \n",
       "0  13.0  11.18  \n",
       "1  12.0  13.90  \n",
       "2   5.0  13.78  \n",
       "3  16.0  19.27  \n",
       "4  20.0  14.08  "
      ]
     },
     "execution_count": 10,
     "metadata": {},
     "output_type": "execute_result"
    }
   ],
   "source": [
    "\n",
    "d_uber = pd.read_csv('uber_fortaleza.csv')\n",
    "\n",
    "d_uber.head()"
   ]
  },
  {
   "cell_type": "code",
   "execution_count": 9,
   "metadata": {},
   "outputs": [
    {
     "data": {
      "text/html": [
       "<div>\n",
       "<style scoped>\n",
       "    .dataframe tbody tr th:only-of-type {\n",
       "        vertical-align: middle;\n",
       "    }\n",
       "\n",
       "    .dataframe tbody tr th {\n",
       "        vertical-align: top;\n",
       "    }\n",
       "\n",
       "    .dataframe thead th {\n",
       "        text-align: right;\n",
       "    }\n",
       "</style>\n",
       "<table border=\"1\" class=\"dataframe\">\n",
       "  <thead>\n",
       "    <tr style=\"text-align: right;\">\n",
       "      <th></th>\n",
       "      <th>Unnamed: 0</th>\n",
       "      <th>Hora</th>\n",
       "      <th>Preço</th>\n",
       "    </tr>\n",
       "  </thead>\n",
       "  <tbody>\n",
       "    <tr>\n",
       "      <th>count</th>\n",
       "      <td>100000.000000</td>\n",
       "      <td>100000.000000</td>\n",
       "      <td>100000.000000</td>\n",
       "    </tr>\n",
       "    <tr>\n",
       "      <th>mean</th>\n",
       "      <td>49999.500000</td>\n",
       "      <td>13.614420</td>\n",
       "      <td>15.414671</td>\n",
       "    </tr>\n",
       "    <tr>\n",
       "      <th>std</th>\n",
       "      <td>28867.657797</td>\n",
       "      <td>6.113448</td>\n",
       "      <td>6.428993</td>\n",
       "    </tr>\n",
       "    <tr>\n",
       "      <th>min</th>\n",
       "      <td>0.000000</td>\n",
       "      <td>0.000000</td>\n",
       "      <td>3.460000</td>\n",
       "    </tr>\n",
       "    <tr>\n",
       "      <th>25%</th>\n",
       "      <td>24999.750000</td>\n",
       "      <td>9.000000</td>\n",
       "      <td>11.200000</td>\n",
       "    </tr>\n",
       "    <tr>\n",
       "      <th>50%</th>\n",
       "      <td>49999.500000</td>\n",
       "      <td>13.000000</td>\n",
       "      <td>15.090000</td>\n",
       "    </tr>\n",
       "    <tr>\n",
       "      <th>75%</th>\n",
       "      <td>74999.250000</td>\n",
       "      <td>19.000000</td>\n",
       "      <td>18.260000</td>\n",
       "    </tr>\n",
       "    <tr>\n",
       "      <th>max</th>\n",
       "      <td>99999.000000</td>\n",
       "      <td>24.000000</td>\n",
       "      <td>37.630000</td>\n",
       "    </tr>\n",
       "  </tbody>\n",
       "</table>\n",
       "</div>"
      ],
      "text/plain": [
       "          Unnamed: 0           Hora          Preço\n",
       "count  100000.000000  100000.000000  100000.000000\n",
       "mean    49999.500000      13.614420      15.414671\n",
       "std     28867.657797       6.113448       6.428993\n",
       "min         0.000000       0.000000       3.460000\n",
       "25%     24999.750000       9.000000      11.200000\n",
       "50%     49999.500000      13.000000      15.090000\n",
       "75%     74999.250000      19.000000      18.260000\n",
       "max     99999.000000      24.000000      37.630000"
      ]
     },
     "execution_count": 9,
     "metadata": {},
     "output_type": "execute_result"
    }
   ],
   "source": [
    "d_uber.describe()"
   ]
  },
  {
   "cell_type": "code",
   "execution_count": 11,
   "metadata": {},
   "outputs": [],
   "source": [
    "df_uber = pd.DataFrame(d_uber)\n"
   ]
  },
  {
   "cell_type": "code",
   "execution_count": 12,
   "metadata": {},
   "outputs": [
    {
     "name": "stdout",
     "output_type": "stream",
     "text": [
      "Unnamed: 0    0\n",
      "Origem        0\n",
      "Destino       0\n",
      "Dia           0\n",
      "Hora          0\n",
      "Preço         0\n",
      "dtype: int64\n"
     ]
    }
   ],
   "source": [
    "print(df_uber.isnull().sum()) #sem nulos"
   ]
  },
  {
   "cell_type": "code",
   "execution_count": 38,
   "metadata": {},
   "outputs": [
    {
     "data": {
      "text/plain": [
       "0        13.0\n",
       "1        12.0\n",
       "2         5.0\n",
       "3        16.0\n",
       "4        20.0\n",
       "         ... \n",
       "99995     0.0\n",
       "99996    13.0\n",
       "99997    22.0\n",
       "99998    12.0\n",
       "99999    14.0\n",
       "Name: Hora, Length: 100000, dtype: float64"
      ]
     },
     "execution_count": 38,
     "metadata": {},
     "output_type": "execute_result"
    }
   ],
   "source": [
    "df_uber.iloc[:,4]"
   ]
  },
  {
   "cell_type": "code",
   "execution_count": 39,
   "metadata": {},
   "outputs": [
    {
     "data": {
      "image/png": "[encoded data removed]",
      "text/plain": [
       "<Figure size 640x480 with 1 Axes>"
      ]
     },
     "metadata": {},
     "output_type": "display_data"
    }
   ],
   "source": [
    "# Teste A/B mais tarde maior o valor\n",
    "\n",
    "X = df_uber.iloc[:, 4] #preços\n",
    "Y = df_uber.iloc[:, 5] #hora\n",
    "plt.scatter(X, Y)\n",
    "plt.show()"
   ]
  },
  {
   "cell_type": "code",
   "execution_count": 1,
   "metadata": {},
   "outputs": [
    {
     "ename": "NameError",
     "evalue": "name 'X' is not defined",
     "output_type": "error",
     "traceback": [
      "\u001b[1;31m---------------------------------------------------------------------------\u001b[0m",
      "\u001b[1;31mNameError\u001b[0m                                 Traceback (most recent call last)",
      "\u001b[1;32mc:\\Users\\user\\Documents\\GitHub\\Hack_Iracema\\EDA.ipynb Cell 9\u001b[0m line \u001b[0;36m5\n\u001b[0;32m      <a href='vscode-notebook-cell:/c%3A/Users/user/Documents/GitHub/Hack_Iracema/EDA.ipynb#X11sZmlsZQ%3D%3D?line=2'>3</a>\u001b[0m L \u001b[39m=\u001b[39m \u001b[39m0.0001\u001b[39m  \u001b[39m#taxa de aprendizado\u001b[39;00m\n\u001b[0;32m      <a href='vscode-notebook-cell:/c%3A/Users/user/Documents/GitHub/Hack_Iracema/EDA.ipynb#X11sZmlsZQ%3D%3D?line=3'>4</a>\u001b[0m epochs \u001b[39m=\u001b[39m \u001b[39m1000\u001b[39m  \u001b[39m# \u001b[39;00m\n\u001b[1;32m----> <a href='vscode-notebook-cell:/c%3A/Users/user/Documents/GitHub/Hack_Iracema/EDA.ipynb#X11sZmlsZQ%3D%3D?line=4'>5</a>\u001b[0m n \u001b[39m=\u001b[39m \u001b[39mfloat\u001b[39m(\u001b[39mlen\u001b[39m(X)) \n",
      "\u001b[1;31mNameError\u001b[0m: name 'X' is not defined"
     ]
    }
   ],
   "source": [
    "m = 0\n",
    "c = 0\n",
    "L = 0.0001  #taxa de aprendizado\n",
    "epochs = 1000  # \n",
    "n = float(len(X)) "
   ]
  },
  {
   "cell_type": "code",
   "execution_count": null,
   "metadata": {},
   "outputs": [
    {
     "name": "stdout",
     "output_type": "stream",
     "text": [
      "0.9073467160962962 0.5651569873623863\n"
     ]
    }
   ],
   "source": [
    "for i in range(epochs):\n",
    "    Y_pred = m*X + c  \n",
    "    D_m = (-2/n) * sum(X * (Y - Y_pred))  # Derivada de m\n",
    "    D_c = (-2/n) * sum(Y - Y_pred)  # Derivada de c\n",
    "    m = m - L * D_m  # aprendizado em m\n",
    "    c = c - L * D_c  # aprendizado em c\n",
    "\n",
    "print(m, c)"
   ]
  },
  {
   "cell_type": "code",
   "execution_count": null,
   "metadata": {},
   "outputs": [
    {
     "data": {
      "image/png": "[encoded data removed]",
      "text/plain": [
       "<Figure size 640x480 with 1 Axes>"
      ]
     },
     "metadata": {},
     "output_type": "display_data"
    }
   ],
   "source": [
    "Y_pred = m*X + c #linha - Regressão Linear \n",
    "plt.scatter(X, Y)\n",
    "plt.plot([min(X), max(X)], [min(Y_pred), max(Y_pred)], color='red')  \n",
    "plt.show()"
   ]
  },
  {
   "cell_type": "markdown",
   "metadata": {},
   "source": [
    "# Análise Inicial dos Dados \n",
    "---\n",
    "Análise de Faixa"
   ]
  },
  {
   "cell_type": "code",
   "execution_count": null,
   "metadata": {},
   "outputs": [],
   "source": [
    "import pandas as pd\n",
    "import matplotlib.pyplot as plt"
   ]
  },
  {
   "cell_type": "code",
   "execution_count": null,
   "metadata": {},
   "outputs": [],
   "source": [
    "d_faixas = pd.read_csv('10_FEATURES_M17_CM6b_TH199.csv')"
   ]
  },
  {
   "cell_type": "code",
   "execution_count": null,
   "metadata": {},
   "outputs": [
    {
     "data": {
      "text/html": [
       "<div>\n",
       "<style scoped>\n",
       "    .dataframe tbody tr th:only-of-type {\n",
       "        vertical-align: middle;\n",
       "    }\n",
       "\n",
       "    .dataframe tbody tr th {\n",
       "        vertical-align: top;\n",
       "    }\n",
       "\n",
       "    .dataframe thead th {\n",
       "        text-align: right;\n",
       "    }\n",
       "</style>\n",
       "<table border=\"1\" class=\"dataframe\">\n",
       "  <thead>\n",
       "    <tr style=\"text-align: right;\">\n",
       "      <th></th>\n",
       "      <th>ASM</th>\n",
       "      <th>Contrast</th>\n",
       "      <th>IDM</th>\n",
       "      <th>Entropy</th>\n",
       "      <th>Homogeneity</th>\n",
       "      <th>Sum Mean</th>\n",
       "      <th>Maximum Probability</th>\n",
       "      <th>Dissimilarity</th>\n",
       "      <th>Difference mean</th>\n",
       "      <th>Autocorrelation</th>\n",
       "      <th>Class</th>\n",
       "    </tr>\n",
       "  </thead>\n",
       "  <tbody>\n",
       "    <tr>\n",
       "      <th>0</th>\n",
       "      <td>0.718484</td>\n",
       "      <td>167.824806</td>\n",
       "      <td>0.885132</td>\n",
       "      <td>0.488888</td>\n",
       "      <td>0.892471</td>\n",
       "      <td>6.818140</td>\n",
       "      <td>0.847442</td>\n",
       "      <td>3.271628</td>\n",
       "      <td>-0.077364</td>\n",
       "      <td>291.956279</td>\n",
       "      <td>1</td>\n",
       "    </tr>\n",
       "    <tr>\n",
       "      <th>1</th>\n",
       "      <td>0.503199</td>\n",
       "      <td>193.217674</td>\n",
       "      <td>0.815848</td>\n",
       "      <td>0.849199</td>\n",
       "      <td>0.828933</td>\n",
       "      <td>14.135969</td>\n",
       "      <td>0.708527</td>\n",
       "      <td>3.989147</td>\n",
       "      <td>-0.077054</td>\n",
       "      <td>682.605271</td>\n",
       "      <td>1</td>\n",
       "    </tr>\n",
       "    <tr>\n",
       "      <th>2</th>\n",
       "      <td>0.857481</td>\n",
       "      <td>101.301705</td>\n",
       "      <td>0.945159</td>\n",
       "      <td>0.232984</td>\n",
       "      <td>0.947614</td>\n",
       "      <td>2.914419</td>\n",
       "      <td>0.925891</td>\n",
       "      <td>1.983256</td>\n",
       "      <td>-0.041550</td>\n",
       "      <td>102.298605</td>\n",
       "      <td>1</td>\n",
       "    </tr>\n",
       "    <tr>\n",
       "      <th>3</th>\n",
       "      <td>0.840310</td>\n",
       "      <td>82.300465</td>\n",
       "      <td>0.940856</td>\n",
       "      <td>0.272157</td>\n",
       "      <td>0.944588</td>\n",
       "      <td>3.662481</td>\n",
       "      <td>0.916589</td>\n",
       "      <td>1.664186</td>\n",
       "      <td>-0.049767</td>\n",
       "      <td>156.233798</td>\n",
       "      <td>1</td>\n",
       "    </tr>\n",
       "    <tr>\n",
       "      <th>4</th>\n",
       "      <td>0.718484</td>\n",
       "      <td>167.824806</td>\n",
       "      <td>0.885132</td>\n",
       "      <td>0.488888</td>\n",
       "      <td>0.892471</td>\n",
       "      <td>6.818140</td>\n",
       "      <td>0.847442</td>\n",
       "      <td>3.271628</td>\n",
       "      <td>-0.077364</td>\n",
       "      <td>291.956279</td>\n",
       "      <td>1</td>\n",
       "    </tr>\n",
       "    <tr>\n",
       "      <th>...</th>\n",
       "      <td>...</td>\n",
       "      <td>...</td>\n",
       "      <td>...</td>\n",
       "      <td>...</td>\n",
       "      <td>...</td>\n",
       "      <td>...</td>\n",
       "      <td>...</td>\n",
       "      <td>...</td>\n",
       "      <td>...</td>\n",
       "      <td>...</td>\n",
       "      <td>...</td>\n",
       "    </tr>\n",
       "    <tr>\n",
       "      <th>595</th>\n",
       "      <td>0.670168</td>\n",
       "      <td>135.330233</td>\n",
       "      <td>0.891464</td>\n",
       "      <td>0.508532</td>\n",
       "      <td>0.897256</td>\n",
       "      <td>8.226357</td>\n",
       "      <td>0.817984</td>\n",
       "      <td>2.799380</td>\n",
       "      <td>0.009922</td>\n",
       "      <td>367.615814</td>\n",
       "      <td>4</td>\n",
       "    </tr>\n",
       "    <tr>\n",
       "      <th>596</th>\n",
       "      <td>0.978453</td>\n",
       "      <td>23.447442</td>\n",
       "      <td>0.990701</td>\n",
       "      <td>0.031720</td>\n",
       "      <td>0.990879</td>\n",
       "      <td>0.311008</td>\n",
       "      <td>0.989147</td>\n",
       "      <td>0.466977</td>\n",
       "      <td>0.015504</td>\n",
       "      <td>3.875969</td>\n",
       "      <td>4</td>\n",
       "    </tr>\n",
       "    <tr>\n",
       "      <th>597</th>\n",
       "      <td>0.969245</td>\n",
       "      <td>18.584806</td>\n",
       "      <td>0.988597</td>\n",
       "      <td>0.056004</td>\n",
       "      <td>0.989124</td>\n",
       "      <td>0.639380</td>\n",
       "      <td>0.984496</td>\n",
       "      <td>0.375194</td>\n",
       "      <td>0.058915</td>\n",
       "      <td>25.162171</td>\n",
       "      <td>4</td>\n",
       "    </tr>\n",
       "    <tr>\n",
       "      <th>598</th>\n",
       "      <td>0.998760</td>\n",
       "      <td>1.550388</td>\n",
       "      <td>0.999380</td>\n",
       "      <td>0.002445</td>\n",
       "      <td>0.999392</td>\n",
       "      <td>0.015504</td>\n",
       "      <td>0.999380</td>\n",
       "      <td>0.031008</td>\n",
       "      <td>0.000000</td>\n",
       "      <td>0.000000</td>\n",
       "      <td>4</td>\n",
       "    </tr>\n",
       "    <tr>\n",
       "      <th>599</th>\n",
       "      <td>0.902882</td>\n",
       "      <td>72.275659</td>\n",
       "      <td>0.965362</td>\n",
       "      <td>0.144748</td>\n",
       "      <td>0.966311</td>\n",
       "      <td>1.831163</td>\n",
       "      <td>0.950078</td>\n",
       "      <td>1.434729</td>\n",
       "      <td>0.063411</td>\n",
       "      <td>57.138295</td>\n",
       "      <td>4</td>\n",
       "    </tr>\n",
       "  </tbody>\n",
       "</table>\n",
       "<p>600 rows × 11 columns</p>\n",
       "</div>"
      ],
      "text/plain": [
       "          ASM    Contrast       IDM   Entropy  Homogeneity   Sum Mean  \\\n",
       "0    0.718484  167.824806  0.885132  0.488888     0.892471   6.818140   \n",
       "1    0.503199  193.217674  0.815848  0.849199     0.828933  14.135969   \n",
       "2    0.857481  101.301705  0.945159  0.232984     0.947614   2.914419   \n",
       "3    0.840310   82.300465  0.940856  0.272157     0.944588   3.662481   \n",
       "4    0.718484  167.824806  0.885132  0.488888     0.892471   6.818140   \n",
       "..        ...         ...       ...       ...          ...        ...   \n",
       "595  0.670168  135.330233  0.891464  0.508532     0.897256   8.226357   \n",
       "596  0.978453   23.447442  0.990701  0.031720     0.990879   0.311008   \n",
       "597  0.969245   18.584806  0.988597  0.056004     0.989124   0.639380   \n",
       "598  0.998760    1.550388  0.999380  0.002445     0.999392   0.015504   \n",
       "599  0.902882   72.275659  0.965362  0.144748     0.966311   1.831163   \n",
       "\n",
       "     Maximum Probability  Dissimilarity  Difference mean  Autocorrelation  \\\n",
       "0               0.847442       3.271628        -0.077364       291.956279   \n",
       "1               0.708527       3.989147        -0.077054       682.605271   \n",
       "2               0.925891       1.983256        -0.041550       102.298605   \n",
       "3               0.916589       1.664186        -0.049767       156.233798   \n",
       "4               0.847442       3.271628        -0.077364       291.956279   \n",
       "..                   ...            ...              ...              ...   \n",
       "595             0.817984       2.799380         0.009922       367.615814   \n",
       "596             0.989147       0.466977         0.015504         3.875969   \n",
       "597             0.984496       0.375194         0.058915        25.162171   \n",
       "598             0.999380       0.031008         0.000000         0.000000   \n",
       "599             0.950078       1.434729         0.063411        57.138295   \n",
       "\n",
       "     Class  \n",
       "0        1  \n",
       "1        1  \n",
       "2        1  \n",
       "3        1  \n",
       "4        1  \n",
       "..     ...  \n",
       "595      4  \n",
       "596      4  \n",
       "597      4  \n",
       "598      4  \n",
       "599      4  \n",
       "\n",
       "[600 rows x 11 columns]"
      ]
     },
     "execution_count": 7,
     "metadata": {},
     "output_type": "execute_result"
    }
   ],
   "source": [
    "d_faixas"
   ]
  },
  {
   "cell_type": "code",
   "execution_count": null,
   "metadata": {},
   "outputs": [
    {
     "data": {
      "text/html": [
       "<div>\n",
       "<style scoped>\n",
       "    .dataframe tbody tr th:only-of-type {\n",
       "        vertical-align: middle;\n",
       "    }\n",
       "\n",
       "    .dataframe tbody tr th {\n",
       "        vertical-align: top;\n",
       "    }\n",
       "\n",
       "    .dataframe thead th {\n",
       "        text-align: right;\n",
       "    }\n",
       "</style>\n",
       "<table border=\"1\" class=\"dataframe\">\n",
       "  <thead>\n",
       "    <tr style=\"text-align: right;\">\n",
       "      <th></th>\n",
       "      <th>ASM</th>\n",
       "      <th>Contrast</th>\n",
       "      <th>IDM</th>\n",
       "      <th>Entropy</th>\n",
       "      <th>Homogeneity</th>\n",
       "      <th>Sum Mean</th>\n",
       "      <th>Maximum Probability</th>\n",
       "      <th>Dissimilarity</th>\n",
       "      <th>Difference mean</th>\n",
       "      <th>Autocorrelation</th>\n",
       "      <th>Class</th>\n",
       "    </tr>\n",
       "  </thead>\n",
       "  <tbody>\n",
       "    <tr>\n",
       "      <th>count</th>\n",
       "      <td>600.000000</td>\n",
       "      <td>600.000000</td>\n",
       "      <td>600.000000</td>\n",
       "      <td>600.000000</td>\n",
       "      <td>600.000000</td>\n",
       "      <td>600.000000</td>\n",
       "      <td>600.000000</td>\n",
       "      <td>600.000000</td>\n",
       "      <td>600.000000</td>\n",
       "      <td>600.000000</td>\n",
       "      <td>600.000000</td>\n",
       "    </tr>\n",
       "    <tr>\n",
       "      <th>mean</th>\n",
       "      <td>0.659373</td>\n",
       "      <td>154.996848</td>\n",
       "      <td>0.879903</td>\n",
       "      <td>0.552841</td>\n",
       "      <td>0.886955</td>\n",
       "      <td>9.319916</td>\n",
       "      <td>0.802539</td>\n",
       "      <td>3.114918</td>\n",
       "      <td>0.010956</td>\n",
       "      <td>436.524955</td>\n",
       "      <td>2.500000</td>\n",
       "    </tr>\n",
       "    <tr>\n",
       "      <th>std</th>\n",
       "      <td>0.176464</td>\n",
       "      <td>99.095725</td>\n",
       "      <td>0.069431</td>\n",
       "      <td>0.293676</td>\n",
       "      <td>0.064927</td>\n",
       "      <td>6.015341</td>\n",
       "      <td>0.117908</td>\n",
       "      <td>1.954304</td>\n",
       "      <td>0.100004</td>\n",
       "      <td>317.270144</td>\n",
       "      <td>1.118967</td>\n",
       "    </tr>\n",
       "    <tr>\n",
       "      <th>min</th>\n",
       "      <td>0.035350</td>\n",
       "      <td>0.000000</td>\n",
       "      <td>0.409970</td>\n",
       "      <td>-0.000000</td>\n",
       "      <td>0.447326</td>\n",
       "      <td>0.000000</td>\n",
       "      <td>0.099845</td>\n",
       "      <td>0.000000</td>\n",
       "      <td>-0.360155</td>\n",
       "      <td>0.000000</td>\n",
       "      <td>1.000000</td>\n",
       "    </tr>\n",
       "    <tr>\n",
       "      <th>25%</th>\n",
       "      <td>0.533493</td>\n",
       "      <td>93.090853</td>\n",
       "      <td>0.841525</td>\n",
       "      <td>0.336608</td>\n",
       "      <td>0.850890</td>\n",
       "      <td>4.830465</td>\n",
       "      <td>0.729612</td>\n",
       "      <td>1.932093</td>\n",
       "      <td>-0.056124</td>\n",
       "      <td>187.510000</td>\n",
       "      <td>1.750000</td>\n",
       "    </tr>\n",
       "    <tr>\n",
       "      <th>50%</th>\n",
       "      <td>0.656673</td>\n",
       "      <td>136.413488</td>\n",
       "      <td>0.881753</td>\n",
       "      <td>0.553053</td>\n",
       "      <td>0.887837</td>\n",
       "      <td>8.799225</td>\n",
       "      <td>0.809457</td>\n",
       "      <td>2.806667</td>\n",
       "      <td>0.007829</td>\n",
       "      <td>391.490698</td>\n",
       "      <td>2.500000</td>\n",
       "    </tr>\n",
       "    <tr>\n",
       "      <th>75%</th>\n",
       "      <td>0.785363</td>\n",
       "      <td>202.317519</td>\n",
       "      <td>0.928811</td>\n",
       "      <td>0.758713</td>\n",
       "      <td>0.932436</td>\n",
       "      <td>13.168372</td>\n",
       "      <td>0.885969</td>\n",
       "      <td>4.007287</td>\n",
       "      <td>0.081434</td>\n",
       "      <td>644.102093</td>\n",
       "      <td>3.250000</td>\n",
       "    </tr>\n",
       "    <tr>\n",
       "      <th>max</th>\n",
       "      <td>1.000000</td>\n",
       "      <td>978.927442</td>\n",
       "      <td>1.000000</td>\n",
       "      <td>1.705113</td>\n",
       "      <td>1.000000</td>\n",
       "      <td>51.048527</td>\n",
       "      <td>1.000000</td>\n",
       "      <td>19.050853</td>\n",
       "      <td>0.410233</td>\n",
       "      <td>2903.024496</td>\n",
       "      <td>4.000000</td>\n",
       "    </tr>\n",
       "  </tbody>\n",
       "</table>\n",
       "</div>"
      ],
      "text/plain": [
       "              ASM    Contrast         IDM     Entropy  Homogeneity  \\\n",
       "count  600.000000  600.000000  600.000000  600.000000   600.000000   \n",
       "mean     0.659373  154.996848    0.879903    0.552841     0.886955   \n",
       "std      0.176464   99.095725    0.069431    0.293676     0.064927   \n",
       "min      0.035350    0.000000    0.409970   -0.000000     0.447326   \n",
       "25%      0.533493   93.090853    0.841525    0.336608     0.850890   \n",
       "50%      0.656673  136.413488    0.881753    0.553053     0.887837   \n",
       "75%      0.785363  202.317519    0.928811    0.758713     0.932436   \n",
       "max      1.000000  978.927442    1.000000    1.705113     1.000000   \n",
       "\n",
       "         Sum Mean  Maximum Probability  Dissimilarity  Difference mean  \\\n",
       "count  600.000000           600.000000     600.000000       600.000000   \n",
       "mean     9.319916             0.802539       3.114918         0.010956   \n",
       "std      6.015341             0.117908       1.954304         0.100004   \n",
       "min      0.000000             0.099845       0.000000        -0.360155   \n",
       "25%      4.830465             0.729612       1.932093        -0.056124   \n",
       "50%      8.799225             0.809457       2.806667         0.007829   \n",
       "75%     13.168372             0.885969       4.007287         0.081434   \n",
       "max     51.048527             1.000000      19.050853         0.410233   \n",
       "\n",
       "       Autocorrelation       Class  \n",
       "count       600.000000  600.000000  \n",
       "mean        436.524955    2.500000  \n",
       "std         317.270144    1.118967  \n",
       "min           0.000000    1.000000  \n",
       "25%         187.510000    1.750000  \n",
       "50%         391.490698    2.500000  \n",
       "75%         644.102093    3.250000  \n",
       "max        2903.024496    4.000000  "
      ]
     },
     "execution_count": 8,
     "metadata": {},
     "output_type": "execute_result"
    }
   ],
   "source": [
    "d_faixas.describe()"
   ]
  },
  {
   "cell_type": "code",
   "execution_count": null,
   "metadata": {},
   "outputs": [],
   "source": [
    "df_faixas = d_faixas.groupby(['Class']).size()\n"
   ]
  },
  {
   "cell_type": "code",
   "execution_count": null,
   "metadata": {},
   "outputs": [
    {
     "name": "stdout",
     "output_type": "stream",
     "text": [
      "Collecting scikit-learn\n",
      "  Downloading scikit_learn-1.3.2-cp311-cp311-win_amd64.whl (9.2 MB)\n",
      "     ---------------------------------------- 9.2/9.2 MB 384.9 kB/s eta 0:00:00\n",
      "Requirement already satisfied: numpy<2.0,>=1.17.3 in c:\\users\\user\\appdata\\local\\programs\\python\\python311\\lib\\site-packages (from scikit-learn) (1.26.2)\n",
      "Requirement already satisfied: scipy>=1.5.0 in c:\\users\\user\\appdata\\local\\programs\\python\\python311\\lib\\site-packages (from scikit-learn) (1.11.4)\n",
      "Requirement already satisfied: joblib>=1.1.1 in c:\\users\\user\\appdata\\local\\programs\\python\\python311\\lib\\site-packages (from scikit-learn) (1.1.1)\n",
      "Collecting threadpoolctl>=2.0.0\n",
      "  Downloading threadpoolctl-3.2.0-py3-none-any.whl (15 kB)\n",
      "Installing collected packages: threadpoolctl, scikit-learn\n",
      "Successfully installed scikit-learn-1.3.2 threadpoolctl-3.2.0\n",
      "Note: you may need to restart the kernel to use updated packages.\n"
     ]
    },
    {
     "name": "stderr",
     "output_type": "stream",
     "text": [
      "\n",
      "[notice] A new release of pip available: 22.3.1 -> 23.3.1\n",
      "[notice] To update, run: python.exe -m pip install --upgrade pip\n"
     ]
    }
   ],
   "source": [
    "pip install -U scikit-learn"
   ]
  },
  {
   "cell_type": "code",
   "execution_count": null,
   "metadata": {},
   "outputs": [],
   "source": [
    "from sklearn.linear_model import Perceptron\n",
    "from sklearn.preprocessing import PolynomialFeatures\n",
    "import numpy as np\n",
    "X_fit = np.array(d_faixas['Entropy'])\n",
    "\n",
    "Y_fit = np.array(d_faixas['Homogeneity'])\n"
   ]
  },
  {
   "cell_type": "code",
   "execution_count": 49,
   "metadata": {},
   "outputs": [],
   "source": [
    "#X_fit = PolynomialFeatures(interaction_only=True).fit_transform(X).astype(int)"
   ]
  },
  {
   "cell_type": "code",
   "execution_count": 43,
   "metadata": {},
   "outputs": [
    {
     "data": {
      "text/html": [
       "<style>#sk-container-id-2 {color: black;}#sk-container-id-2 pre{padding: 0;}#sk-container-id-2 div.sk-toggleable {background-color: white;}#sk-container-id-2 label.sk-toggleable__label {cursor: pointer;display: block;width: 100%;margin-bottom: 0;padding: 0.3em;box-sizing: border-box;text-align: center;}#sk-container-id-2 label.sk-toggleable__label-arrow:before {content: \"▸\";float: left;margin-right: 0.25em;color: #696969;}#sk-container-id-2 label.sk-toggleable__label-arrow:hover:before {color: black;}#sk-container-id-2 div.sk-estimator:hover label.sk-toggleable__label-arrow:before {color: black;}#sk-container-id-2 div.sk-toggleable__content {max-height: 0;max-width: 0;overflow: hidden;text-align: left;background-color: #f0f8ff;}#sk-container-id-2 div.sk-toggleable__content pre {margin: 0.2em;color: black;border-radius: 0.25em;background-color: #f0f8ff;}#sk-container-id-2 input.sk-toggleable__control:checked~div.sk-toggleable__content {max-height: 200px;max-width: 100%;overflow: auto;}#sk-container-id-2 input.sk-toggleable__control:checked~label.sk-toggleable__label-arrow:before {content: \"▾\";}#sk-container-id-2 div.sk-estimator input.sk-toggleable__control:checked~label.sk-toggleable__label {background-color: #d4ebff;}#sk-container-id-2 div.sk-label input.sk-toggleable__control:checked~label.sk-toggleable__label {background-color: #d4ebff;}#sk-container-id-2 input.sk-hidden--visually {border: 0;clip: rect(1px 1px 1px 1px);clip: rect(1px, 1px, 1px, 1px);height: 1px;margin: -1px;overflow: hidden;padding: 0;position: absolute;width: 1px;}#sk-container-id-2 div.sk-estimator {font-family: monospace;background-color: #f0f8ff;border: 1px dotted black;border-radius: 0.25em;box-sizing: border-box;margin-bottom: 0.5em;}#sk-container-id-2 div.sk-estimator:hover {background-color: #d4ebff;}#sk-container-id-2 div.sk-parallel-item::after {content: \"\";width: 100%;border-bottom: 1px solid gray;flex-grow: 1;}#sk-container-id-2 div.sk-label:hover label.sk-toggleable__label {background-color: #d4ebff;}#sk-container-id-2 div.sk-serial::before {content: \"\";position: absolute;border-left: 1px solid gray;box-sizing: border-box;top: 0;bottom: 0;left: 50%;z-index: 0;}#sk-container-id-2 div.sk-serial {display: flex;flex-direction: column;align-items: center;background-color: white;padding-right: 0.2em;padding-left: 0.2em;position: relative;}#sk-container-id-2 div.sk-item {position: relative;z-index: 1;}#sk-container-id-2 div.sk-parallel {display: flex;align-items: stretch;justify-content: center;background-color: white;position: relative;}#sk-container-id-2 div.sk-item::before, #sk-container-id-2 div.sk-parallel-item::before {content: \"\";position: absolute;border-left: 1px solid gray;box-sizing: border-box;top: 0;bottom: 0;left: 50%;z-index: -1;}#sk-container-id-2 div.sk-parallel-item {display: flex;flex-direction: column;z-index: 1;position: relative;background-color: white;}#sk-container-id-2 div.sk-parallel-item:first-child::after {align-self: flex-end;width: 50%;}#sk-container-id-2 div.sk-parallel-item:last-child::after {align-self: flex-start;width: 50%;}#sk-container-id-2 div.sk-parallel-item:only-child::after {width: 0;}#sk-container-id-2 div.sk-dashed-wrapped {border: 1px dashed gray;margin: 0 0.4em 0.5em 0.4em;box-sizing: border-box;padding-bottom: 0.4em;background-color: white;}#sk-container-id-2 div.sk-label label {font-family: monospace;font-weight: bold;display: inline-block;line-height: 1.2em;}#sk-container-id-2 div.sk-label-container {text-align: center;}#sk-container-id-2 div.sk-container {/* jupyter's `normalize.less` sets `[hidden] { display: none; }` but bootstrap.min.css set `[hidden] { display: none !important; }` so we also need the `!important` here to be able to override the default hidden behavior on the sphinx rendered scikit-learn.org. See: https://github.com/scikit-learn/scikit-learn/issues/21755 */display: inline-block !important;position: relative;}#sk-container-id-2 div.sk-text-repr-fallback {display: none;}</style><div id=\"sk-container-id-2\" class=\"sk-top-container\"><div class=\"sk-text-repr-fallback\"><pre>Perceptron()</pre><b>In a Jupyter environment, please rerun this cell to show the HTML representation or trust the notebook. <br />On GitHub, the HTML representation is unable to render, please try loading this page with nbviewer.org.</b></div><div class=\"sk-container\" hidden><div class=\"sk-item\"><div class=\"sk-estimator sk-toggleable\"><input class=\"sk-toggleable__control sk-hidden--visually\" id=\"sk-estimator-id-2\" type=\"checkbox\" checked><label for=\"sk-estimator-id-2\" class=\"sk-toggleable__label sk-toggleable__label-arrow\">Perceptron</label><div class=\"sk-toggleable__content\"><pre>Perceptron()</pre></div></div></div></div></div>"
      ],
      "text/plain": [
       "Perceptron()"
      ]
     },
     "execution_count": 43,
     "metadata": {},
     "output_type": "execute_result"
    }
   ],
   "source": [
    "clf = Perceptron(tol=1e-3, random_state=0)\n",
    "#clf.fit(X_fit, Y_fit)\n",
    "clf"
   ]
  },
  {
   "cell_type": "code",
   "execution_count": 48,
   "metadata": {},
   "outputs": [],
   "source": [
    "#clf.score(d_faixas['Entropy','Homogeneity'])"
   ]
  },
  {
   "cell_type": "code",
   "execution_count": null,
   "metadata": {},
   "outputs": [],
   "source": [
    "clf = Perceptron(fit_intercept=False, max_iter=10, tol=None, shuffle=False).fit(X_fit, Y_fit)"
   ]
  },
  {
   "cell_type": "markdown",
   "metadata": {},
   "source": [
    "# Análise Inicial dos Dados \n",
    "---\n",
    "Análise de Map - Geo"
   ]
  },
  {
   "cell_type": "code",
   "execution_count": 1,
   "metadata": {},
   "outputs": [],
   "source": [
    "import pandas as pd\n",
    "import matplotlib.pyplot as plt\n",
    "import os"
   ]
  },
  {
   "cell_type": "code",
   "execution_count": 2,
   "metadata": {},
   "outputs": [],
   "source": [
    "d_rotas = pd.read_csv('rotas.csv')"
   ]
  },
  {
   "cell_type": "code",
   "execution_count": 4,
   "metadata": {},
   "outputs": [
    {
     "data": {
      "text/html": [
       "<div>\n",
       "<style scoped>\n",
       "    .dataframe tbody tr th:only-of-type {\n",
       "        vertical-align: middle;\n",
       "    }\n",
       "\n",
       "    .dataframe tbody tr th {\n",
       "        vertical-align: top;\n",
       "    }\n",
       "\n",
       "    .dataframe thead th {\n",
       "        text-align: right;\n",
       "    }\n",
       "</style>\n",
       "<table border=\"1\" class=\"dataframe\">\n",
       "  <thead>\n",
       "    <tr style=\"text-align: right;\">\n",
       "      <th></th>\n",
       "      <th>Route</th>\n",
       "      <th>Code and Direction</th>\n",
       "      <th>Route Code</th>\n",
       "      <th>[Pontos de Ônibus].ID</th>\n",
       "      <th>Latitude</th>\n",
       "      <th>Longitude</th>\n",
       "    </tr>\n",
       "  </thead>\n",
       "  <tbody>\n",
       "    <tr>\n",
       "      <th>0</th>\n",
       "      <td>333</td>\n",
       "      <td>(Volta)</td>\n",
       "      <td>333</td>\n",
       "      <td>5279</td>\n",
       "      <td>-3729017</td>\n",
       "      <td>-38532731</td>\n",
       "    </tr>\n",
       "    <tr>\n",
       "      <th>1</th>\n",
       "      <td>333</td>\n",
       "      <td>(Volta)</td>\n",
       "      <td>333</td>\n",
       "      <td>1599</td>\n",
       "      <td>-3731284</td>\n",
       "      <td>-38535768</td>\n",
       "    </tr>\n",
       "    <tr>\n",
       "      <th>2</th>\n",
       "      <td>333</td>\n",
       "      <td>(Volta)</td>\n",
       "      <td>333</td>\n",
       "      <td>1607</td>\n",
       "      <td>-3734125</td>\n",
       "      <td>-38536571</td>\n",
       "    </tr>\n",
       "    <tr>\n",
       "      <th>3</th>\n",
       "      <td>333</td>\n",
       "      <td>(Volta)</td>\n",
       "      <td>333</td>\n",
       "      <td>1610</td>\n",
       "      <td>-3736143</td>\n",
       "      <td>-38537183</td>\n",
       "    </tr>\n",
       "    <tr>\n",
       "      <th>4</th>\n",
       "      <td>333</td>\n",
       "      <td>(Volta)</td>\n",
       "      <td>333</td>\n",
       "      <td>5736</td>\n",
       "      <td>-3738007</td>\n",
       "      <td>-38538154</td>\n",
       "    </tr>\n",
       "  </tbody>\n",
       "</table>\n",
       "</div>"
      ],
      "text/plain": [
       "   Route Code and Direction  Route Code  [Pontos de Ônibus].ID  Latitude  \\\n",
       "0    333            (Volta)         333                   5279  -3729017   \n",
       "1    333            (Volta)         333                   1599  -3731284   \n",
       "2    333            (Volta)         333                   1607  -3734125   \n",
       "3    333            (Volta)         333                   1610  -3736143   \n",
       "4    333            (Volta)         333                   5736  -3738007   \n",
       "\n",
       "   Longitude  \n",
       "0  -38532731  \n",
       "1  -38535768  \n",
       "2  -38536571  \n",
       "3  -38537183  \n",
       "4  -38538154  "
      ]
     },
     "execution_count": 4,
     "metadata": {},
     "output_type": "execute_result"
    }
   ],
   "source": [
    "d_rotas.head()"
   ]
  },
  {
   "cell_type": "code",
   "execution_count": 5,
   "metadata": {},
   "outputs": [
    {
     "data": {
      "text/plain": [
       "Route                     int64\n",
       "Code and Direction       object\n",
       "Route Code                int64\n",
       "[Pontos de Ônibus].ID     int64\n",
       "Latitude                  int64\n",
       "Longitude                 int64\n",
       "dtype: object"
      ]
     },
     "execution_count": 5,
     "metadata": {},
     "output_type": "execute_result"
    }
   ],
   "source": [
    "d_rotas.dtypes"
   ]
  },
  {
   "cell_type": "code",
   "execution_count": 15,
   "metadata": {},
   "outputs": [
    {
     "name": "stdout",
     "output_type": "stream",
     "text": [
      "Collecting geopandas\n",
      "  Downloading geopandas-0.14.1-py3-none-any.whl (1.1 MB)\n",
      "     ---------------------------------------- 1.1/1.1 MB 1.1 MB/s eta 0:00:00\n",
      "Collecting fiona>=1.8.21\n",
      "  Downloading fiona-1.9.5-cp311-cp311-win_amd64.whl (22.9 MB)\n",
      "     ---------------------------------------- 22.9/22.9 MB 4.1 MB/s eta 0:00:00\n",
      "Requirement already satisfied: packaging in c:\\users\\user\\appdata\\local\\programs\\python\\python311\\lib\\site-packages (from geopandas) (22.0)\n",
      "Requirement already satisfied: pandas>=1.4.0 in c:\\users\\user\\appdata\\local\\programs\\python\\python311\\lib\\site-packages (from geopandas) (1.5.2)\n",
      "Collecting pyproj>=3.3.0\n",
      "  Downloading pyproj-3.6.1-cp311-cp311-win_amd64.whl (6.1 MB)\n",
      "     ---------------------------------------- 6.1/6.1 MB 4.9 MB/s eta 0:00:00\n",
      "Collecting shapely>=1.8.0\n",
      "  Downloading shapely-2.0.2-cp311-cp311-win_amd64.whl (1.4 MB)\n",
      "     ---------------------------------------- 1.4/1.4 MB 5.1 MB/s eta 0:00:00\n",
      "Requirement already satisfied: attrs>=19.2.0 in c:\\users\\user\\appdata\\local\\programs\\python\\python311\\lib\\site-packages (from fiona>=1.8.21->geopandas) (22.1.0)\n",
      "Requirement already satisfied: certifi in c:\\users\\user\\appdata\\local\\programs\\python\\python311\\lib\\site-packages (from fiona>=1.8.21->geopandas) (2022.12.7)\n",
      "Requirement already satisfied: click~=8.0 in c:\\users\\user\\appdata\\local\\programs\\python\\python311\\lib\\site-packages (from fiona>=1.8.21->geopandas) (8.1.7)\n",
      "Collecting click-plugins>=1.0\n",
      "  Downloading click_plugins-1.1.1-py2.py3-none-any.whl (7.5 kB)\n",
      "Collecting cligj>=0.5\n",
      "  Downloading cligj-0.7.2-py3-none-any.whl (7.1 kB)\n",
      "Requirement already satisfied: six in c:\\users\\user\\appdata\\local\\programs\\python\\python311\\lib\\site-packages (from fiona>=1.8.21->geopandas) (1.16.0)\n",
      "Requirement already satisfied: setuptools in c:\\users\\user\\appdata\\local\\programs\\python\\python311\\lib\\site-packages (from fiona>=1.8.21->geopandas) (65.5.0)\n",
      "Requirement already satisfied: python-dateutil>=2.8.1 in c:\\users\\user\\appdata\\local\\programs\\python\\python311\\lib\\site-packages (from pandas>=1.4.0->geopandas) (2.8.2)\n",
      "Requirement already satisfied: pytz>=2020.1 in c:\\users\\user\\appdata\\local\\programs\\python\\python311\\lib\\site-packages (from pandas>=1.4.0->geopandas) (2022.7)\n",
      "Requirement already satisfied: numpy>=1.21.0 in c:\\users\\user\\appdata\\local\\programs\\python\\python311\\lib\\site-packages (from pandas>=1.4.0->geopandas) (1.26.2)\n",
      "Requirement already satisfied: colorama in c:\\users\\user\\appdata\\local\\programs\\python\\python311\\lib\\site-packages (from click~=8.0->fiona>=1.8.21->geopandas) (0.4.6)\n",
      "Installing collected packages: shapely, pyproj, cligj, click-plugins, fiona, geopandas\n",
      "Successfully installed click-plugins-1.1.1 cligj-0.7.2 fiona-1.9.5 geopandas-0.14.1 pyproj-3.6.1 shapely-2.0.2\n",
      "Note: you may need to restart the kernel to use updated packages.\n"
     ]
    },
    {
     "name": "stderr",
     "output_type": "stream",
     "text": [
      "\n",
      "[notice] A new release of pip available: 22.3.1 -> 23.3.1\n",
      "[notice] To update, run: python.exe -m pip install --upgrade pip\n"
     ]
    }
   ],
   "source": [
    "pip install geopandas"
   ]
  },
  {
   "cell_type": "markdown",
   "metadata": {},
   "source": [
    "## Teste Geopandas"
   ]
  },
  {
   "cell_type": "code",
   "execution_count": 18,
   "metadata": {},
   "outputs": [
    {
     "name": "stderr",
     "output_type": "stream",
     "text": [
      "C:\\Users\\user\\AppData\\Local\\Temp\\ipykernel_9208\\2858446151.py:5: FutureWarning: The geopandas.dataset module is deprecated and will be removed in GeoPandas 1.0. You can get the original 'naturalearth_lowres' data from https://www.naturalearthdata.com/downloads/110m-cultural-vectors/.\n",
      "  world = gpd.read_file(gpd.datasets.get_path('naturalearth_lowres'))\n"
     ]
    },
    {
     "data": {
      "text/plain": [
       "<AxesSubplot: >"
      ]
     },
     "execution_count": 18,
     "metadata": {},
     "output_type": "execute_result"
    },
    {
     "data": {
      "image/png": "[encoded data removed]",
      "text/plain": [
       "<Figure size 640x480 with 1 Axes>"
      ]
     },
     "metadata": {},
     "output_type": "display_data"
    }
   ],
   "source": [
    "import matplotlib.pyplot as plt\n",
    "import geopandas as gpd\n",
    "world = gpd.read_file(gpd.datasets.get_path('naturalearth_lowres'))\n",
    "world.plot()"
   ]
  },
  {
   "cell_type": "code",
   "execution_count": 20,
   "metadata": {},
   "outputs": [
    {
     "name": "stderr",
     "output_type": "stream",
     "text": [
      "C:\\Users\\user\\AppData\\Local\\Temp\\ipykernel_9208\\1924658049.py:2: FutureWarning: The geopandas.dataset module is deprecated and will be removed in GeoPandas 1.0. You can get the original 'naturalearth_lowres' data from https://www.naturalearthdata.com/downloads/110m-cultural-vectors/.\n",
      "  world = gpd.read_file(gpd.datasets.get_path('naturalearth_lowres'))\n"
     ]
    },
    {
     "data": {
      "text/plain": [
       "<AxesSubplot: >"
      ]
     },
     "execution_count": 20,
     "metadata": {},
     "output_type": "execute_result"
    },
    {
     "data": {
      "image/png": "[encoded data removed]",
      "text/plain": [
       "<Figure size 640x480 with 1 Axes>"
      ]
     },
     "metadata": {},
     "output_type": "display_data"
    }
   ],
   "source": [
    "world = gpd.read_file(gpd.datasets.get_path('naturalearth_lowres'))\n",
    "brazil = world[world['name'] == 'Brazil']\n",
    "brazil.plot(color='lightblue', edgecolor='black')"
   ]
  },
  {
   "cell_type": "code",
   "execution_count": 23,
   "metadata": {},
   "outputs": [
    {
     "data": {
      "text/plain": [
       "Text(-3.24048505, -38.5371, 'Instituto-Iracema')"
      ]
     },
     "execution_count": 23,
     "metadata": {},
     "output_type": "execute_result"
    },
    {
     "data": {
      "image/png": "[encoded data removed]",
      "text/plain": [
       "<Figure size 640x480 with 1 Axes>"
      ]
     },
     "metadata": {},
     "output_type": "display_data"
    }
   ],
   "source": [
    "dados_coordenadas = (-3.74048505, -38.5371)\n",
    "fig, ax = plt.subplots()\n",
    "brazil.plot(ax=ax, color='lightgreen', edgecolor='black')\n",
    "ax.scatter(dados_coordenadas[0], dados_coordenadas[1], color='blue', s=100)\n",
    "ax.text(dados_coordenadas[0] + 0.5, dados_coordenadas[1], 'Instituto-Iracema', fontsize=12, ha='left')"
   ]
  },
  {
   "cell_type": "code",
   "execution_count": 24,
   "metadata": {},
   "outputs": [
    {
     "name": "stdout",
     "output_type": "stream",
     "text": [
      "Collecting folium\n",
      "  Downloading folium-0.15.0-py2.py3-none-any.whl (100 kB)\n",
      "     -------------------------------------- 100.3/100.3 kB 1.1 MB/s eta 0:00:00\n",
      "Collecting branca>=0.6.0\n",
      "  Downloading branca-0.7.0-py3-none-any.whl (25 kB)\n",
      "Requirement already satisfied: jinja2>=2.9 in c:\\users\\user\\appdata\\local\\programs\\python\\python311\\lib\\site-packages (from folium) (3.1.2)\n",
      "Requirement already satisfied: numpy in c:\\users\\user\\appdata\\local\\programs\\python\\python311\\lib\\site-packages (from folium) (1.26.2)\n",
      "Requirement already satisfied: requests in c:\\users\\user\\appdata\\local\\programs\\python\\python311\\lib\\site-packages (from folium) (2.28.1)\n",
      "Requirement already satisfied: MarkupSafe>=2.0 in c:\\users\\user\\appdata\\local\\programs\\python\\python311\\lib\\site-packages (from jinja2>=2.9->folium) (2.1.1)\n",
      "Requirement already satisfied: charset-normalizer<3,>=2 in c:\\users\\user\\appdata\\local\\programs\\python\\python311\\lib\\site-packages (from requests->folium) (2.1.1)\n",
      "Requirement already satisfied: idna<4,>=2.5 in c:\\users\\user\\appdata\\local\\programs\\python\\python311\\lib\\site-packages (from requests->folium) (3.4)\n",
      "Requirement already satisfied: urllib3<1.27,>=1.21.1 in c:\\users\\user\\appdata\\local\\programs\\python\\python311\\lib\\site-packages (from requests->folium) (1.26.13)\n",
      "Requirement already satisfied: certifi>=2017.4.17 in c:\\users\\user\\appdata\\local\\programs\\python\\python311\\lib\\site-packages (from requests->folium) (2022.12.7)\n",
      "Installing collected packages: branca, folium\n",
      "Successfully installed branca-0.7.0 folium-0.15.0\n",
      "Note: you may need to restart the kernel to use updated packages.\n"
     ]
    },
    {
     "name": "stderr",
     "output_type": "stream",
     "text": [
      "\n",
      "[notice] A new release of pip available: 22.3.1 -> 23.3.1\n",
      "[notice] To update, run: python.exe -m pip install --upgrade pip\n"
     ]
    }
   ],
   "source": [
    "pip install folium"
   ]
  },
  {
   "cell_type": "code",
   "execution_count": 26,
   "metadata": {},
   "outputs": [
    {
     "ename": "NameError",
     "evalue": "name 'sample_data' is not defined",
     "output_type": "error",
     "traceback": [
      "\u001b[1;31m---------------------------------------------------------------------------\u001b[0m",
      "\u001b[1;31mNameError\u001b[0m                                 Traceback (most recent call last)",
      "\u001b[1;32mc:\\Users\\user\\Downloads\\hoje\\EDA.ipynb Cell 35\u001b[0m line \u001b[0;36m5\n\u001b[0;32m      <a href='vscode-notebook-cell:/c%3A/Users/user/Downloads/hoje/EDA.ipynb#X44sZmlsZQ%3D%3D?line=1'>2</a>\u001b[0m m_corrected \u001b[39m=\u001b[39m folium\u001b[39m.\u001b[39mMap(location\u001b[39m=\u001b[39m[\u001b[39m-\u001b[39m\u001b[39m15.77972\u001b[39m, \u001b[39m-\u001b[39m\u001b[39m47.92972\u001b[39m], zoom_start\u001b[39m=\u001b[39m\u001b[39m4\u001b[39m)  \u001b[39m# Centered around Brasília\u001b[39;00m\n\u001b[0;32m      <a href='vscode-notebook-cell:/c%3A/Users/user/Downloads/hoje/EDA.ipynb#X44sZmlsZQ%3D%3D?line=3'>4</a>\u001b[0m \u001b[39m# Add markers for each record in the sample data with special markers for fatal accidents\u001b[39;00m\n\u001b[1;32m----> <a href='vscode-notebook-cell:/c%3A/Users/user/Downloads/hoje/EDA.ipynb#X44sZmlsZQ%3D%3D?line=4'>5</a>\u001b[0m \u001b[39mfor\u001b[39;00m idx, row \u001b[39min\u001b[39;00m sample_data\u001b[39m.\u001b[39miterrows():\n\u001b[0;32m      <a href='vscode-notebook-cell:/c%3A/Users/user/Downloads/hoje/EDA.ipynb#X44sZmlsZQ%3D%3D?line=5'>6</a>\u001b[0m     \u001b[39mif\u001b[39;00m \u001b[39m\"\u001b[39m\u001b[39mCom Vítimas Fatais\u001b[39m\u001b[39m\"\u001b[39m \u001b[39min\u001b[39;00m row[\u001b[39m'\u001b[39m\u001b[39mclassificacao_acidente\u001b[39m\u001b[39m'\u001b[39m]:\n\u001b[0;32m      <a href='vscode-notebook-cell:/c%3A/Users/user/Downloads/hoje/EDA.ipynb#X44sZmlsZQ%3D%3D?line=6'>7</a>\u001b[0m         icon_color \u001b[39m=\u001b[39m \u001b[39m\"\u001b[39m\u001b[39mred\u001b[39m\u001b[39m\"\u001b[39m\n",
      "\u001b[1;31mNameError\u001b[0m: name 'sample_data' is not defined"
     ]
    }
   ],
   "source": [
    "import folium\n",
    "m_corrected = folium.Map(location=[-15.77972, -47.92972], zoom_start=4)  \n",
    "for idx, row in sample_data.iterrows():\n",
    "    if \"Com Vítimas Fatais\" in row['classificacao_acidente']:\n",
    "        icon_color = \"red\"\n",
    "        icon_type = \"times\"\n",
    "        folium.Marker(\n",
    "            location=[row['latitude'], row['longitude']],\n",
    "            popup=row['causa_acidente'],\n",
    "            icon=folium.Icon(icon=icon_type, color=icon_color, prefix='fa')\n",
    "        ).add_to(m_corrected)\n",
    "    else:\n",
    "        folium.CircleMarker(\n",
    "            location=[row['latitude'], row['longitude']],\n",
    "            radius=5,\n",
    "            color=\"blue\",\n",
    "            fill=True,\n",
    "            fill_color=\"blue\",\n",
    "            fill_opacity=0.6\n",
    "        ).add_to(m_corrected)\n",
    "\n",
    "m_corrected"
   ]
  },
  {
   "cell_type": "code",
   "execution_count": null,
   "metadata": {},
   "outputs": [],
   "source": []
  },
  {
   "cell_type": "markdown",
   "metadata": {},
   "source": [
    "# StreamLit"
   ]
  },
  {
   "cell_type": "code",
   "execution_count": 29,
   "metadata": {},
   "outputs": [
    {
     "name": "stdout",
     "output_type": "stream",
     "text": [
      "Requirement already satisfied: folium in c:\\users\\user\\appdata\\local\\programs\\python\\python311\\lib\\site-packages (0.15.0)\n",
      "Requirement already satisfied: branca>=0.6.0 in c:\\users\\user\\appdata\\local\\programs\\python\\python311\\lib\\site-packages (from folium) (0.7.0)\n",
      "Requirement already satisfied: jinja2>=2.9 in c:\\users\\user\\appdata\\local\\programs\\python\\python311\\lib\\site-packages (from folium) (3.1.2)\n",
      "Requirement already satisfied: numpy in c:\\users\\user\\appdata\\local\\programs\\python\\python311\\lib\\site-packages (from folium) (1.26.2)\n",
      "Requirement already satisfied: requests in c:\\users\\user\\appdata\\local\\programs\\python\\python311\\lib\\site-packages (from folium) (2.28.1)\n",
      "Requirement already satisfied: MarkupSafe>=2.0 in c:\\users\\user\\appdata\\local\\programs\\python\\python311\\lib\\site-packages (from jinja2>=2.9->folium) (2.1.1)\n",
      "Requirement already satisfied: charset-normalizer<3,>=2 in c:\\users\\user\\appdata\\local\\programs\\python\\python311\\lib\\site-packages (from requests->folium) (2.1.1)\n",
      "Requirement already satisfied: idna<4,>=2.5 in c:\\users\\user\\appdata\\local\\programs\\python\\python311\\lib\\site-packages (from requests->folium) (3.4)\n",
      "Requirement already satisfied: urllib3<1.27,>=1.21.1 in c:\\users\\user\\appdata\\local\\programs\\python\\python311\\lib\\site-packages (from requests->folium) (1.26.13)\n",
      "Requirement already satisfied: certifi>=2017.4.17 in c:\\users\\user\\appdata\\local\\programs\\python\\python311\\lib\\site-packages (from requests->folium) (2022.12.7)\n",
      "Note: you may need to restart the kernel to use updated packages.\n"
     ]
    },
    {
     "name": "stderr",
     "output_type": "stream",
     "text": [
      "\n",
      "[notice] A new release of pip available: 22.3.1 -> 23.3.1\n",
      "[notice] To update, run: python.exe -m pip install --upgrade pip\n"
     ]
    }
   ],
   "source": [
    "pip install -U folium"
   ]
  },
  {
   "cell_type": "code",
   "execution_count": 30,
   "metadata": {},
   "outputs": [
    {
     "name": "stdout",
     "output_type": "stream",
     "text": [
      "Requirement already satisfied: streamlit in c:\\users\\user\\appdata\\local\\programs\\python\\python311\\lib\\site-packages (1.28.2)\n",
      "Requirement already satisfied: altair<6,>=4.0 in c:\\users\\user\\appdata\\local\\programs\\python\\python311\\lib\\site-packages (from streamlit) (5.1.2)\n",
      "Requirement already satisfied: blinker<2,>=1.0.0 in c:\\users\\user\\appdata\\local\\programs\\python\\python311\\lib\\site-packages (from streamlit) (1.7.0)\n",
      "Requirement already satisfied: cachetools<6,>=4.0 in c:\\users\\user\\appdata\\local\\programs\\python\\python311\\lib\\site-packages (from streamlit) (5.3.2)\n",
      "Requirement already satisfied: click<9,>=7.0 in c:\\users\\user\\appdata\\local\\programs\\python\\python311\\lib\\site-packages (from streamlit) (8.1.7)\n",
      "Requirement already satisfied: importlib-metadata<7,>=1.4 in c:\\users\\user\\appdata\\local\\programs\\python\\python311\\lib\\site-packages (from streamlit) (6.8.0)\n",
      "Requirement already satisfied: numpy<2,>=1.19.3 in c:\\users\\user\\appdata\\local\\programs\\python\\python311\\lib\\site-packages (from streamlit) (1.26.2)\n",
      "Requirement already satisfied: packaging<24,>=16.8 in c:\\users\\user\\appdata\\local\\programs\\python\\python311\\lib\\site-packages (from streamlit) (22.0)\n",
      "Requirement already satisfied: pandas<3,>=1.3.0 in c:\\users\\user\\appdata\\local\\programs\\python\\python311\\lib\\site-packages (from streamlit) (1.5.2)\n",
      "Requirement already satisfied: pillow<11,>=7.1.0 in c:\\users\\user\\appdata\\local\\programs\\python\\python311\\lib\\site-packages (from streamlit) (9.3.0)\n",
      "Requirement already satisfied: protobuf<5,>=3.20 in c:\\users\\user\\appdata\\local\\programs\\python\\python311\\lib\\site-packages (from streamlit) (4.25.1)\n",
      "Requirement already satisfied: pyarrow>=6.0 in c:\\users\\user\\appdata\\local\\programs\\python\\python311\\lib\\site-packages (from streamlit) (14.0.1)\n",
      "Requirement already satisfied: python-dateutil<3,>=2.7.3 in c:\\users\\user\\appdata\\local\\programs\\python\\python311\\lib\\site-packages (from streamlit) (2.8.2)\n",
      "Requirement already satisfied: requests<3,>=2.27 in c:\\users\\user\\appdata\\local\\programs\\python\\python311\\lib\\site-packages (from streamlit) (2.28.1)\n",
      "Requirement already satisfied: rich<14,>=10.14.0 in c:\\users\\user\\appdata\\local\\programs\\python\\python311\\lib\\site-packages (from streamlit) (13.7.0)\n",
      "Requirement already satisfied: tenacity<9,>=8.1.0 in c:\\users\\user\\appdata\\local\\programs\\python\\python311\\lib\\site-packages (from streamlit) (8.1.0)\n",
      "Requirement already satisfied: toml<2,>=0.10.1 in c:\\users\\user\\appdata\\local\\programs\\python\\python311\\lib\\site-packages (from streamlit) (0.10.2)\n",
      "Requirement already satisfied: typing-extensions<5,>=4.3.0 in c:\\users\\user\\appdata\\local\\programs\\python\\python311\\lib\\site-packages (from streamlit) (4.8.0)\n",
      "Requirement already satisfied: tzlocal<6,>=1.1 in c:\\users\\user\\appdata\\local\\programs\\python\\python311\\lib\\site-packages (from streamlit) (4.2)\n",
      "Requirement already satisfied: validators<1,>=0.2 in c:\\users\\user\\appdata\\local\\programs\\python\\python311\\lib\\site-packages (from streamlit) (0.22.0)\n",
      "Requirement already satisfied: gitpython!=3.1.19,<4,>=3.0.7 in c:\\users\\user\\appdata\\local\\programs\\python\\python311\\lib\\site-packages (from streamlit) (3.1.40)\n",
      "Requirement already satisfied: pydeck<1,>=0.8.0b4 in c:\\users\\user\\appdata\\local\\programs\\python\\python311\\lib\\site-packages (from streamlit) (0.8.1b0)\n",
      "Requirement already satisfied: tornado<7,>=6.0.3 in c:\\users\\user\\appdata\\local\\programs\\python\\python311\\lib\\site-packages (from streamlit) (6.2)\n",
      "Requirement already satisfied: watchdog>=2.1.5 in c:\\users\\user\\appdata\\local\\programs\\python\\python311\\lib\\site-packages (from streamlit) (3.0.0)\n",
      "Requirement already satisfied: jinja2 in c:\\users\\user\\appdata\\local\\programs\\python\\python311\\lib\\site-packages (from altair<6,>=4.0->streamlit) (3.1.2)\n",
      "Requirement already satisfied: jsonschema>=3.0 in c:\\users\\user\\appdata\\local\\programs\\python\\python311\\lib\\site-packages (from altair<6,>=4.0->streamlit) (4.17.3)\n",
      "Requirement already satisfied: toolz in c:\\users\\user\\appdata\\local\\programs\\python\\python311\\lib\\site-packages (from altair<6,>=4.0->streamlit) (0.12.0)\n",
      "Requirement already satisfied: colorama in c:\\users\\user\\appdata\\local\\programs\\python\\python311\\lib\\site-packages (from click<9,>=7.0->streamlit) (0.4.6)\n",
      "Requirement already satisfied: gitdb<5,>=4.0.1 in c:\\users\\user\\appdata\\local\\programs\\python\\python311\\lib\\site-packages (from gitpython!=3.1.19,<4,>=3.0.7->streamlit) (4.0.11)\n",
      "Requirement already satisfied: zipp>=0.5 in c:\\users\\user\\appdata\\local\\programs\\python\\python311\\lib\\site-packages (from importlib-metadata<7,>=1.4->streamlit) (3.17.0)\n",
      "Requirement already satisfied: pytz>=2020.1 in c:\\users\\user\\appdata\\local\\programs\\python\\python311\\lib\\site-packages (from pandas<3,>=1.3.0->streamlit) (2022.7)\n",
      "Requirement already satisfied: six>=1.5 in c:\\users\\user\\appdata\\local\\programs\\python\\python311\\lib\\site-packages (from python-dateutil<3,>=2.7.3->streamlit) (1.16.0)\n",
      "Requirement already satisfied: charset-normalizer<3,>=2 in c:\\users\\user\\appdata\\local\\programs\\python\\python311\\lib\\site-packages (from requests<3,>=2.27->streamlit) (2.1.1)\n",
      "Requirement already satisfied: idna<4,>=2.5 in c:\\users\\user\\appdata\\local\\programs\\python\\python311\\lib\\site-packages (from requests<3,>=2.27->streamlit) (3.4)\n",
      "Requirement already satisfied: urllib3<1.27,>=1.21.1 in c:\\users\\user\\appdata\\local\\programs\\python\\python311\\lib\\site-packages (from requests<3,>=2.27->streamlit) (1.26.13)\n",
      "Requirement already satisfied: certifi>=2017.4.17 in c:\\users\\user\\appdata\\local\\programs\\python\\python311\\lib\\site-packages (from requests<3,>=2.27->streamlit) (2022.12.7)\n",
      "Requirement already satisfied: markdown-it-py>=2.2.0 in c:\\users\\user\\appdata\\local\\programs\\python\\python311\\lib\\site-packages (from rich<14,>=10.14.0->streamlit) (3.0.0)\n",
      "Requirement already satisfied: pygments<3.0.0,>=2.13.0 in c:\\users\\user\\appdata\\local\\programs\\python\\python311\\lib\\site-packages (from rich<14,>=10.14.0->streamlit) (2.13.0)\n",
      "Requirement already satisfied: pytz-deprecation-shim in c:\\users\\user\\appdata\\local\\programs\\python\\python311\\lib\\site-packages (from tzlocal<6,>=1.1->streamlit) (0.1.0.post0)\n",
      "Requirement already satisfied: tzdata in c:\\users\\user\\appdata\\local\\programs\\python\\python311\\lib\\site-packages (from tzlocal<6,>=1.1->streamlit) (2022.7)\n",
      "Requirement already satisfied: smmap<6,>=3.0.1 in c:\\users\\user\\appdata\\local\\programs\\python\\python311\\lib\\site-packages (from gitdb<5,>=4.0.1->gitpython!=3.1.19,<4,>=3.0.7->streamlit) (5.0.1)\n",
      "Requirement already satisfied: MarkupSafe>=2.0 in c:\\users\\user\\appdata\\local\\programs\\python\\python311\\lib\\site-packages (from jinja2->altair<6,>=4.0->streamlit) (2.1.1)\n",
      "Requirement already satisfied: attrs>=17.4.0 in c:\\users\\user\\appdata\\local\\programs\\python\\python311\\lib\\site-packages (from jsonschema>=3.0->altair<6,>=4.0->streamlit) (22.1.0)\n",
      "Requirement already satisfied: pyrsistent!=0.17.0,!=0.17.1,!=0.17.2,>=0.14.0 in c:\\users\\user\\appdata\\local\\programs\\python\\python311\\lib\\site-packages (from jsonschema>=3.0->altair<6,>=4.0->streamlit) (0.19.2)\n",
      "Requirement already satisfied: mdurl~=0.1 in c:\\users\\user\\appdata\\local\\programs\\python\\python311\\lib\\site-packages (from markdown-it-py>=2.2.0->rich<14,>=10.14.0->streamlit) (0.1.2)\n",
      "Note: you may need to restart the kernel to use updated packages.\n"
     ]
    },
    {
     "name": "stderr",
     "output_type": "stream",
     "text": [
      "\n",
      "[notice] A new release of pip available: 22.3.1 -> 23.3.1\n",
      "[notice] To update, run: python.exe -m pip install --upgrade pip\n"
     ]
    }
   ],
   "source": [
    "pip install streamlit"
   ]
  },
  {
   "cell_type": "code",
   "execution_count": 33,
   "metadata": {},
   "outputs": [
    {
     "name": "stdout",
     "output_type": "stream",
     "text": [
      "Collecting streamlit_folium\n",
      "  Downloading streamlit_folium-0.16.0-py3-none-any.whl (325 kB)\n",
      "     -------------------------------------- 325.3/325.3 kB 2.5 MB/s eta 0:00:00\n",
      "Requirement already satisfied: streamlit>=1.13.0 in c:\\users\\user\\appdata\\local\\programs\\python\\python311\\lib\\site-packages (from streamlit_folium) (1.28.2)\n",
      "Collecting folium<0.15,>=0.13\n",
      "  Downloading folium-0.14.0-py2.py3-none-any.whl (102 kB)\n",
      "     -------------------------------------- 102.3/102.3 kB 2.0 MB/s eta 0:00:00\n",
      "Requirement already satisfied: jinja2 in c:\\users\\user\\appdata\\local\\programs\\python\\python311\\lib\\site-packages (from streamlit_folium) (3.1.2)\n",
      "Requirement already satisfied: branca in c:\\users\\user\\appdata\\local\\programs\\python\\python311\\lib\\site-packages (from streamlit_folium) (0.7.0)\n",
      "Requirement already satisfied: numpy in c:\\users\\user\\appdata\\local\\programs\\python\\python311\\lib\\site-packages (from folium<0.15,>=0.13->streamlit_folium) (1.26.2)\n",
      "Requirement already satisfied: requests in c:\\users\\user\\appdata\\local\\programs\\python\\python311\\lib\\site-packages (from folium<0.15,>=0.13->streamlit_folium) (2.28.1)\n",
      "Requirement already satisfied: MarkupSafe>=2.0 in c:\\users\\user\\appdata\\local\\programs\\python\\python311\\lib\\site-packages (from jinja2->streamlit_folium) (2.1.1)\n",
      "Requirement already satisfied: altair<6,>=4.0 in c:\\users\\user\\appdata\\local\\programs\\python\\python311\\lib\\site-packages (from streamlit>=1.13.0->streamlit_folium) (5.1.2)\n",
      "Requirement already satisfied: blinker<2,>=1.0.0 in c:\\users\\user\\appdata\\local\\programs\\python\\python311\\lib\\site-packages (from streamlit>=1.13.0->streamlit_folium) (1.7.0)\n",
      "Requirement already satisfied: cachetools<6,>=4.0 in c:\\users\\user\\appdata\\local\\programs\\python\\python311\\lib\\site-packages (from streamlit>=1.13.0->streamlit_folium) (5.3.2)\n",
      "Requirement already satisfied: click<9,>=7.0 in c:\\users\\user\\appdata\\local\\programs\\python\\python311\\lib\\site-packages (from streamlit>=1.13.0->streamlit_folium) (8.1.7)\n",
      "Requirement already satisfied: importlib-metadata<7,>=1.4 in c:\\users\\user\\appdata\\local\\programs\\python\\python311\\lib\\site-packages (from streamlit>=1.13.0->streamlit_folium) (6.8.0)\n",
      "Requirement already satisfied: packaging<24,>=16.8 in c:\\users\\user\\appdata\\local\\programs\\python\\python311\\lib\\site-packages (from streamlit>=1.13.0->streamlit_folium) (22.0)\n",
      "Requirement already satisfied: pandas<3,>=1.3.0 in c:\\users\\user\\appdata\\local\\programs\\python\\python311\\lib\\site-packages (from streamlit>=1.13.0->streamlit_folium) (1.5.2)\n",
      "Requirement already satisfied: pillow<11,>=7.1.0 in c:\\users\\user\\appdata\\local\\programs\\python\\python311\\lib\\site-packages (from streamlit>=1.13.0->streamlit_folium) (9.3.0)\n",
      "Requirement already satisfied: protobuf<5,>=3.20 in c:\\users\\user\\appdata\\local\\programs\\python\\python311\\lib\\site-packages (from streamlit>=1.13.0->streamlit_folium) (4.25.1)\n",
      "Requirement already satisfied: pyarrow>=6.0 in c:\\users\\user\\appdata\\local\\programs\\python\\python311\\lib\\site-packages (from streamlit>=1.13.0->streamlit_folium) (14.0.1)\n",
      "Requirement already satisfied: python-dateutil<3,>=2.7.3 in c:\\users\\user\\appdata\\local\\programs\\python\\python311\\lib\\site-packages (from streamlit>=1.13.0->streamlit_folium) (2.8.2)\n",
      "Requirement already satisfied: rich<14,>=10.14.0 in c:\\users\\user\\appdata\\local\\programs\\python\\python311\\lib\\site-packages (from streamlit>=1.13.0->streamlit_folium) (13.7.0)\n",
      "Requirement already satisfied: tenacity<9,>=8.1.0 in c:\\users\\user\\appdata\\local\\programs\\python\\python311\\lib\\site-packages (from streamlit>=1.13.0->streamlit_folium) (8.1.0)\n",
      "Requirement already satisfied: toml<2,>=0.10.1 in c:\\users\\user\\appdata\\local\\programs\\python\\python311\\lib\\site-packages (from streamlit>=1.13.0->streamlit_folium) (0.10.2)\n",
      "Requirement already satisfied: typing-extensions<5,>=4.3.0 in c:\\users\\user\\appdata\\local\\programs\\python\\python311\\lib\\site-packages (from streamlit>=1.13.0->streamlit_folium) (4.8.0)\n",
      "Requirement already satisfied: tzlocal<6,>=1.1 in c:\\users\\user\\appdata\\local\\programs\\python\\python311\\lib\\site-packages (from streamlit>=1.13.0->streamlit_folium) (4.2)\n",
      "Requirement already satisfied: validators<1,>=0.2 in c:\\users\\user\\appdata\\local\\programs\\python\\python311\\lib\\site-packages (from streamlit>=1.13.0->streamlit_folium) (0.22.0)\n",
      "Requirement already satisfied: gitpython!=3.1.19,<4,>=3.0.7 in c:\\users\\user\\appdata\\local\\programs\\python\\python311\\lib\\site-packages (from streamlit>=1.13.0->streamlit_folium) (3.1.40)\n",
      "Requirement already satisfied: pydeck<1,>=0.8.0b4 in c:\\users\\user\\appdata\\local\\programs\\python\\python311\\lib\\site-packages (from streamlit>=1.13.0->streamlit_folium) (0.8.1b0)\n",
      "Requirement already satisfied: tornado<7,>=6.0.3 in c:\\users\\user\\appdata\\local\\programs\\python\\python311\\lib\\site-packages (from streamlit>=1.13.0->streamlit_folium) (6.2)\n",
      "Requirement already satisfied: watchdog>=2.1.5 in c:\\users\\user\\appdata\\local\\programs\\python\\python311\\lib\\site-packages (from streamlit>=1.13.0->streamlit_folium) (3.0.0)\n",
      "Requirement already satisfied: jsonschema>=3.0 in c:\\users\\user\\appdata\\local\\programs\\python\\python311\\lib\\site-packages (from altair<6,>=4.0->streamlit>=1.13.0->streamlit_folium) (4.17.3)\n",
      "Requirement already satisfied: toolz in c:\\users\\user\\appdata\\local\\programs\\python\\python311\\lib\\site-packages (from altair<6,>=4.0->streamlit>=1.13.0->streamlit_folium) (0.12.0)\n",
      "Requirement already satisfied: colorama in c:\\users\\user\\appdata\\local\\programs\\python\\python311\\lib\\site-packages (from click<9,>=7.0->streamlit>=1.13.0->streamlit_folium) (0.4.6)\n",
      "Requirement already satisfied: gitdb<5,>=4.0.1 in c:\\users\\user\\appdata\\local\\programs\\python\\python311\\lib\\site-packages (from gitpython!=3.1.19,<4,>=3.0.7->streamlit>=1.13.0->streamlit_folium) (4.0.11)\n",
      "Requirement already satisfied: zipp>=0.5 in c:\\users\\user\\appdata\\local\\programs\\python\\python311\\lib\\site-packages (from importlib-metadata<7,>=1.4->streamlit>=1.13.0->streamlit_folium) (3.17.0)\n",
      "Requirement already satisfied: pytz>=2020.1 in c:\\users\\user\\appdata\\local\\programs\\python\\python311\\lib\\site-packages (from pandas<3,>=1.3.0->streamlit>=1.13.0->streamlit_folium) (2022.7)\n",
      "Requirement already satisfied: six>=1.5 in c:\\users\\user\\appdata\\local\\programs\\python\\python311\\lib\\site-packages (from python-dateutil<3,>=2.7.3->streamlit>=1.13.0->streamlit_folium) (1.16.0)\n",
      "Requirement already satisfied: charset-normalizer<3,>=2 in c:\\users\\user\\appdata\\local\\programs\\python\\python311\\lib\\site-packages (from requests->folium<0.15,>=0.13->streamlit_folium) (2.1.1)\n",
      "Requirement already satisfied: idna<4,>=2.5 in c:\\users\\user\\appdata\\local\\programs\\python\\python311\\lib\\site-packages (from requests->folium<0.15,>=0.13->streamlit_folium) (3.4)\n",
      "Requirement already satisfied: urllib3<1.27,>=1.21.1 in c:\\users\\user\\appdata\\local\\programs\\python\\python311\\lib\\site-packages (from requests->folium<0.15,>=0.13->streamlit_folium) (1.26.13)\n",
      "Requirement already satisfied: certifi>=2017.4.17 in c:\\users\\user\\appdata\\local\\programs\\python\\python311\\lib\\site-packages (from requests->folium<0.15,>=0.13->streamlit_folium) (2022.12.7)\n",
      "Requirement already satisfied: markdown-it-py>=2.2.0 in c:\\users\\user\\appdata\\local\\programs\\python\\python311\\lib\\site-packages (from rich<14,>=10.14.0->streamlit>=1.13.0->streamlit_folium) (3.0.0)\n",
      "Requirement already satisfied: pygments<3.0.0,>=2.13.0 in c:\\users\\user\\appdata\\local\\programs\\python\\python311\\lib\\site-packages (from rich<14,>=10.14.0->streamlit>=1.13.0->streamlit_folium) (2.13.0)\n",
      "Requirement already satisfied: pytz-deprecation-shim in c:\\users\\user\\appdata\\local\\programs\\python\\python311\\lib\\site-packages (from tzlocal<6,>=1.1->streamlit>=1.13.0->streamlit_folium) (0.1.0.post0)\n",
      "Requirement already satisfied: tzdata in c:\\users\\user\\appdata\\local\\programs\\python\\python311\\lib\\site-packages (from tzlocal<6,>=1.1->streamlit>=1.13.0->streamlit_folium) (2022.7)\n",
      "Requirement already satisfied: smmap<6,>=3.0.1 in c:\\users\\user\\appdata\\local\\programs\\python\\python311\\lib\\site-packages (from gitdb<5,>=4.0.1->gitpython!=3.1.19,<4,>=3.0.7->streamlit>=1.13.0->streamlit_folium) (5.0.1)\n",
      "Requirement already satisfied: attrs>=17.4.0 in c:\\users\\user\\appdata\\local\\programs\\python\\python311\\lib\\site-packages (from jsonschema>=3.0->altair<6,>=4.0->streamlit>=1.13.0->streamlit_folium) (22.1.0)\n",
      "Requirement already satisfied: pyrsistent!=0.17.0,!=0.17.1,!=0.17.2,>=0.14.0 in c:\\users\\user\\appdata\\local\\programs\\python\\python311\\lib\\site-packages (from jsonschema>=3.0->altair<6,>=4.0->streamlit>=1.13.0->streamlit_folium) (0.19.2)\n",
      "Requirement already satisfied: mdurl~=0.1 in c:\\users\\user\\appdata\\local\\programs\\python\\python311\\lib\\site-packages (from markdown-it-py>=2.2.0->rich<14,>=10.14.0->streamlit>=1.13.0->streamlit_folium) (0.1.2)\n",
      "Installing collected packages: folium, streamlit_folium\n",
      "  Attempting uninstall: folium\n",
      "    Found existing installation: folium 0.15.0\n",
      "    Uninstalling folium-0.15.0:\n",
      "      Successfully uninstalled folium-0.15.0\n",
      "Successfully installed folium-0.14.0 streamlit_folium-0.16.0\n",
      "Note: you may need to restart the kernel to use updated packages.\n"
     ]
    },
    {
     "name": "stderr",
     "output_type": "stream",
     "text": [
      "\n",
      "[notice] A new release of pip available: 22.3.1 -> 23.3.1\n",
      "[notice] To update, run: python.exe -m pip install --upgrade pip\n"
     ]
    }
   ],
   "source": [
    "pip install streamlit_folium"
   ]
  },
  {
   "cell_type": "code",
   "execution_count": 34,
   "metadata": {},
   "outputs": [
    {
     "name": "stderr",
     "output_type": "stream",
     "text": [
      "2023-11-19 00:06:31.004 \n",
      "  \u001b[33m\u001b[1mWarning:\u001b[0m to view this Streamlit app on a browser, run it with the following\n",
      "  command:\n",
      "\n",
      "    streamlit run c:\\Users\\user\\AppData\\Local\\Programs\\Python\\Python311\\Lib\\site-packages\\ipykernel_launcher.py [ARGUMENTS]\n"
     ]
    }
   ],
   "source": [
    "import folium\n",
    "import streamlit as st\n",
    "from streamlit_folium import st_folium\n",
    "m = folium.Map(location=[39.949610, -75.150282], zoom_start=16)\n",
    "folium.Marker(\n",
    "    [39.949610, -75.150282], popup=\"Liberty Bell\", tooltip=\"Liberty Bell\"\n",
    ").add_to(m)\n",
    "\n",
    "# call to render Folium map in Streamlit\n",
    "st_data = st_folium(m, width=725)"
   ]
  },
  {
   "cell_type": "code",
   "execution_count": null,
   "metadata": {},
   "outputs": [],
   "source": []
  }
 ],
 "metadata": {
  "kernelspec": {
   "display_name": "Python 3",
   "language": "python",
   "name": "python3"
  },
  "language_info": {
   "codemirror_mode": {
    "name": "ipython",
    "version": 3
   },
   "file_extension": ".py",
   "mimetype": "text/x-python",
   "name": "python",
   "nbconvert_exporter": "python",
   "pygments_lexer": "ipython3",
   "version": "3.11.1"
  }
 },
 "nbformat": 4,
 "nbformat_minor": 2
}
